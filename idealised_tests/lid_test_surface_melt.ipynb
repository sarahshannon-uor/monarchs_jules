{
 "cells": [
  {
   "cell_type": "markdown",
   "id": "7c5de3b4",
   "metadata": {},
   "source": [
    "# MONARCHS Lid Physics Test Harness\n",
    "\n",
    "This notebook tests the behaviour of **surface melt** in the MONARCHS lid scheme.\n",
    "\n",
    "The reason to test the lid code is because the 1D ERA5 runs produce lid depths that **only grow** or **reset to zero** \n",
    "\n",
    "i.e. the lid never shrinks\n",
    "\n",
    "According to **Buzzard (2018, GMD & PhD thesis)**:\n",
    "- **Virtual lids** (≤ 0.1 m) can thin or vanish from surface melt.\n",
    "- **Real lids** cannot ablate from the surface; they only grow/shrink at the basal interface.\n",
    "\n",
    "Here we test the MONARCHS implementation using a simplified cell dictionary.\n"
   ]
  },
  {
   "cell_type": "code",
   "execution_count": 10,
   "id": "c089a751",
   "metadata": {},
   "outputs": [],
   "source": [
    "import numpy as np\n",
    "from monarchs.physics import lid_functions\n",
    "\n",
    "def make_real_lid_test_cell():\n",
    "    return {\n",
    "        \"lake\": True,\n",
    "        \"lake_depth\": 1.0,\n",
    "        \"lid_depth\": 0.5,\n",
    "        \"v_lid_depth\": 0.0,\n",
    "        \"L_ice\": 3.34e5,\n",
    "        \"rho_ice\": 917.0,\n",
    "        \"rho_water\": 1000.0,\n",
    "        \"k_water\": 0.6,\n",
    "        \"k_ice\": 2.0,\n",
    "        \"lid_sfc_melt\": 0.0,\n",
    "        \"lid_melt_count\": 0,\n",
    "        \"has_had_lid\": True,\n",
    "        \"lid_temperature\": np.ones(20) * 273.15,\n",
    "        \"lake_temperature\": np.ones(20) * 274.0,\n",
    "        \"firn_temperature\": np.ones(500) * 265.0,\n",
    "        \"Sfrac\": np.ones(500),\n",
    "        \"Lfrac\": np.zeros(500),\n",
    "        \"firn_depth\": np.linspace(0, 35.0, 500),\n",
    "        \"lid_depth_array\": np.linspace(0, 0.5, 20),\n",
    "        \"lake_depth_array\": np.linspace(0, 1.0, 20),\n",
    "        \"vert_grid\": 500,\n",
    "        \"vert_grid_firn\": 500,\n",
    "        \"vert_grid_lid\": 20,\n",
    "        \"vert_grid_lake\": 20,\n",
    "    }\n",
    "\n",
    "def make_virtual_lid_test_cell():\n",
    "    cell = make_real_lid_test_cell()\n",
    "    cell[\"lid_depth\"] = 0.0\n",
    "    cell[\"v_lid_depth\"] = 0.05  # 5 cm virtual lid\n",
    "    return cell\n",
    "\n",
    "def run_surface_melt_test(cell, steps=6, Q=200.0, dt=3600.0):\n",
    "    for step in range(steps):\n",
    "        lid_functions.calc_surface_melt(cell, dt, Q)\n",
    "        print(\n",
    "            f\"Step {step}: \"\n",
    "            f\"v_lid_depth={cell['v_lid_depth']:.3f}, \"\n",
    "            f\"lid_depth={cell['lid_depth']:.3f}, \"\n",
    "            f\"lake_depth={cell['lake_depth']:.3f}, \"\n",
    "            f\"lid_sfc_melt={cell['lid_sfc_melt']}, \"\n",
    "            f\"lid_melt_count={cell['lid_melt_count']}\"\n",
    "        )\n",
    "\n",
    "# using this to hide my user name in file path when division by zero warming happens in test 2  \n",
    "import warnings\n",
    "warnings.filterwarnings(\"ignore\", category=RuntimeWarning)\n"
   ]
  },
  {
   "cell_type": "markdown",
   "id": "e08370bb",
   "metadata": {},
   "source": [
    "## Test 1: Real lid\n",
    "\n",
    "We initialise with a 0.5 m **real lid**.\n",
    "\n",
    "Expectation (Buzzard, 2018):  \n",
    "- Surface melt should *not* reduce lid thickness.  "
   ]
  },
  {
   "cell_type": "code",
   "execution_count": 11,
   "id": "7a597524",
   "metadata": {},
   "outputs": [
    {
     "name": "stdout",
     "output_type": "stream",
     "text": [
      "=== Real lid test ===\n",
      "Step 0: v_lid_depth=0.000, lid_depth=0.500, lake_depth=1.000, lid_sfc_melt=0.0023508054773767623, lid_melt_count=1\n",
      "Step 1: v_lid_depth=0.000, lid_depth=0.500, lake_depth=1.000, lid_sfc_melt=0.004701610954753525, lid_melt_count=2\n",
      "Step 2: v_lid_depth=0.000, lid_depth=0.500, lake_depth=1.000, lid_sfc_melt=0.007052416432130287, lid_melt_count=3\n",
      "Step 3: v_lid_depth=0.000, lid_depth=0.500, lake_depth=1.000, lid_sfc_melt=0.00940322190950705, lid_melt_count=4\n",
      "Step 4: v_lid_depth=0.000, lid_depth=0.500, lake_depth=1.000, lid_sfc_melt=0.011754027386883812, lid_melt_count=5\n",
      "Step 5: v_lid_depth=0.000, lid_depth=0.500, lake_depth=1.000, lid_sfc_melt=0.014104832864260574, lid_melt_count=6\n"
     ]
    }
   ],
   "source": [
    "print(\"=== Real lid test ===\")\n",
    "cell_real = make_real_lid_test_cell()\n",
    "run_surface_melt_test(cell_real)"
   ]
  },
  {
   "cell_type": "markdown",
   "id": "c4032061",
   "metadata": {},
   "source": [
    "## Test 2: Virtual lid\n",
    "\n",
    "We initialise with a 0.05 m **virtual lid**.\n",
    "\n",
    "Expectation (Buzzard, 2018):  \n",
    "- Virtual lid should thin and eventually vanish under surface melt.  \n",
    "\n",
    "Observed in MONARCHS:  \n",
    "- Virtual lid remains fixed.  \n",
    "- `lid_sfc_melt` becomes NaN due to division by zero (since `lid_depth = 0`).  \n"
   ]
  },
  {
   "cell_type": "code",
   "execution_count": 12,
   "id": "fff4c3bc",
   "metadata": {},
   "outputs": [
    {
     "name": "stdout",
     "output_type": "stream",
     "text": [
      "\n",
      "=== Virtual lid test ===\n",
      "Step 0: v_lid_depth=0.050, lid_depth=0.000, lake_depth=1.000, lid_sfc_melt=nan, lid_melt_count=1\n",
      "Step 1: v_lid_depth=0.050, lid_depth=0.000, lake_depth=1.000, lid_sfc_melt=nan, lid_melt_count=2\n",
      "Step 2: v_lid_depth=0.050, lid_depth=0.000, lake_depth=1.000, lid_sfc_melt=nan, lid_melt_count=3\n",
      "Step 3: v_lid_depth=0.050, lid_depth=0.000, lake_depth=1.000, lid_sfc_melt=nan, lid_melt_count=4\n",
      "Step 4: v_lid_depth=0.050, lid_depth=0.000, lake_depth=1.000, lid_sfc_melt=nan, lid_melt_count=5\n",
      "Step 5: v_lid_depth=0.050, lid_depth=0.000, lake_depth=1.000, lid_sfc_melt=nan, lid_melt_count=6\n"
     ]
    }
   ],
   "source": [
    "print(\"\\n=== Virtual lid test ===\")\n",
    "cell_virtual = make_virtual_lid_test_cell()\n",
    "run_surface_melt_test(cell_virtual)"
   ]
  },
  {
   "cell_type": "markdown",
   "id": "7e3a4055",
   "metadata": {},
   "source": [
    "## Why `NaN` Appears with Virtual Lid\n",
    "\n",
    "When we input a **virtual lid** (`lid_depth = 0`, `v_lid_depth > 0`), \n",
    "the MONARCHS routine `calc_surface_melt` calculates a conductive flux using `lid_depth` not `v_lid_depth`  \n",
    "\n",
    "The expression looks like:\n",
    "\n",
    "```python\n",
    "kdTdz = (\n",
    "    (cell[\"lid_temperature\"][0] - 273.15)\n",
    "    * abs(cell[\"k_ice\"])\n",
    "    / (cell[\"lid_depth\"] / (cell[\"vert_grid_lid\"]/2) + cell[\"lid_sfc_melt\"])\n",
    ")\n",
    "```\n",
    "\n",
    "- `cell[\"lid_depth\"] = 0.0` (no real lid).  \n",
    "- `cell[\"lid_sfc_melt\"] = 0.0` at start.  \n",
    "- Denominator = `(0.0 / (20/2)) + 0.0 = 0.0`.  \n",
    "- Division by zero → `NaN`.  \n",
    "\n",
    "This confirms the implementation mismatch:  \n",
    "- Buzzard (2018): surface melt should act on the **virtual lid**.  \n",
    "- MONARCHS code: surface melt coded for **real lid**, and fails for a virtual lid i.e. if `lid_depth = 0`.  "
   ]
  },
  {
   "cell_type": "markdown",
   "id": "99451914",
   "metadata": {},
   "source": [
    "## Discussion\n",
    "\n",
    "Results show:\n",
    "\n",
    "- **Real lid test**: `lid_depth` remains constant while `lid_sfc_melt` accumulates.  \n",
    "- **Virtual lid test**: `v_lid_depth` remains constant, `lid_sfc_melt` becomes NaN.  \n",
    "\n",
    "This indicates that MONARCHS currently:\n",
    "- Computes surface melt only against `lid_depth` (real lid).  \n",
    "- Does not apply surface melt to `v_lid_depth` (virtual lid).  \n",
    "- Produces division-by-zero errors if a virtual lid is present (because lid_depth=0) \n",
    "\n",
    "⚠️ This behaviour is inconsistent with Buzzard (2018), where surface melt should act only on the **virtual lid** and could explain why real lid never shrinks in the ERA5 runs\n"
   ]
  }
 ],
 "metadata": {
  "kernelspec": {
   "display_name": "mon_jules",
   "language": "python",
   "name": "python3"
  },
  "language_info": {
   "codemirror_mode": {
    "name": "ipython",
    "version": 3
   },
   "file_extension": ".py",
   "mimetype": "text/x-python",
   "name": "python",
   "nbconvert_exporter": "python",
   "pygments_lexer": "ipython3",
   "version": "3.12.11"
  }
 },
 "nbformat": 4,
 "nbformat_minor": 5
}
