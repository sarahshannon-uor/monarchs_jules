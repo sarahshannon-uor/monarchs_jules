{
 "cells": [
  {
   "cell_type": "code",
   "execution_count": 8,
   "id": "169506b1",
   "metadata": {},
   "outputs": [],
   "source": [
    "# Basal lid test harness for MONARCHS\n",
    "import numpy as np\n",
    "from monarchs.physics import lid_functions\n",
    "\n",
    "def make_basal_test_cell(lid_depth=0.5, lake_temp=274.5):\n",
    "    \"\"\"Construct a minimal MONARCHS cell for basal lid testing.\"\"\"\n",
    "    return {\n",
    "        # Bookkeeping\n",
    "        \"day\": 0,\n",
    "        \"t_step\": 0,\n",
    "        \"melt\": 0.0,\n",
    "        \"exposed_water\": False,\n",
    "\n",
    "        # Lid state\n",
    "        \"lid\": True,\n",
    "        \"v_lid\": False,\n",
    "        \"has_had_lid\": True,\n",
    "        \"lid_depth\": lid_depth,\n",
    "        \"v_lid_depth\": 0.0,\n",
    "        \"lid_melt_count\": 0,\n",
    "        \"lid_temperature\": np.ones(20) * 273.15,\n",
    "        \"rho_lid\": np.ones(20) * 917.0,\n",
    "\n",
    "        # Constants\n",
    "        \"rho_ice\": 917.0,\n",
    "        \"rho_water\": 1000.0,\n",
    "        \"L_ice\": 3.34e5,\n",
    "        \"k_air\": 0.024,\n",
    "        \"cp_air\": 1005.0,\n",
    "        \"k_water\": 0.6,\n",
    "\n",
    "        # Lake\n",
    "        \"lake\": True,\n",
    "        \"lake_depth\": 1.0,\n",
    "        \"lake_temperature\": np.ones(20) * lake_temp,\n",
    "\n",
    "        # Firn \n",
    "        \"Sfrac\": np.ones(500),\n",
    "        \"Lfrac\": np.zeros(500),\n",
    "        \"firn_depth\": np.linspace(0, 35.0, 500),\n",
    "        \"lid_sfc_melt\": 0,\n",
    "\n",
    "        # Grid\n",
    "        \"vert_grid\": 500,\n",
    "        \"vert_grid_firn\": 500,\n",
    "        \"vert_grid_lid\": 20,\n",
    "        \"vert_grid_lake\": 20,\n",
    "    }"
   ]
  },
  {
   "cell_type": "code",
   "execution_count": null,
   "id": "524939b9",
   "metadata": {},
   "outputs": [
    {
     "name": "stdout",
     "output_type": "stream",
     "text": [
      "=== Cold lake basal test ===\n",
      "Step 0: new_boundary_change=None, lid_depth=0.500, lake_depth=1.000\n",
      "Step 1: new_boundary_change=None, lid_depth=0.500, lake_depth=1.000\n",
      "Step 2: new_boundary_change=None, lid_depth=0.500, lake_depth=1.000\n",
      "Step 3: new_boundary_change=None, lid_depth=0.501, lake_depth=1.000\n",
      "Step 4: new_boundary_change=None, lid_depth=0.501, lake_depth=0.999\n",
      "Step 5: new_boundary_change=None, lid_depth=0.501, lake_depth=0.999\n"
     ]
    }
   ],
   "source": [
    "def run_basal_test(cell, steps=6, dt=3600.0):\n",
    "    for step in range(steps):\n",
    "        new_boundary_change = lid_functions.lid_development(\n",
    "            cell, dt,\n",
    "            LW_in=0.0,\n",
    "            SW_in=0.0,\n",
    "            T_air=273.15,\n",
    "            p_air=1.0e5,\n",
    "            T_dp=273.15,\n",
    "            wind=0.0,\n",
    "        )\n",
    "        if new_boundary_change is None:\n",
    "            print(\n",
    "                f\"Step {step}: \"\n",
    "                f\"new_boundary_change=None, \"\n",
    "                f\"lid_depth={cell['lid_depth']:.3f}, \"\n",
    "                f\"lake_depth={cell['lake_depth']:.3f}\"\n",
    "            )\n",
    "        else:\n",
    "            print(\n",
    "                f\"Step {step}: \"\n",
    "                f\"new_boundary_change={new_boundary_change:.6f}, \"\n",
    "                f\"lid_depth={cell['lid_depth']:.3f}, \"\n",
    "                f\"lake_depth={cell['lake_depth']:.3f}\"\n",
    "            )\n",
    "\n",
    "# === Cold lake (growth) ===\n",
    "print(\"=== Warm lake basal test ===\")\n",
    "cell_cold = make_basal_test_cell(lid_depth=0.5, lake_temp=274.5)\n",
    "run_basal_test(cell_cold)"
   ]
  },
  {
   "cell_type": "code",
   "execution_count": null,
   "id": "56ac3957",
   "metadata": {},
   "outputs": [
    {
     "name": "stdout",
     "output_type": "stream",
     "text": [
      "=== Cold lake basal test ===\n",
      "Step 0: new_boundary_change=None, lid_depth=0.500, lake_depth=1.000\n",
      "Step 1: new_boundary_change=None, lid_depth=0.499, lake_depth=1.001\n",
      "Step 2: new_boundary_change=None, lid_depth=0.499, lake_depth=1.001\n",
      "Step 3: new_boundary_change=None, lid_depth=0.499, lake_depth=1.001\n",
      "Step 4: new_boundary_change=None, lid_depth=0.499, lake_depth=1.001\n",
      "Step 5: new_boundary_change=None, lid_depth=0.498, lake_depth=1.002\n"
     ]
    }
   ],
   "source": [
    "print(\"=== Cold lake basal test ===\")\n",
    "cell_cold = make_basal_test_cell(lid_depth=0.5, lake_temp=273.05)\n",
    "run_basal_test(cell_cold)"
   ]
  }
 ],
 "metadata": {
  "kernelspec": {
   "display_name": "mon_jules",
   "language": "python",
   "name": "python3"
  },
  "language_info": {
   "codemirror_mode": {
    "name": "ipython",
    "version": 3
   },
   "file_extension": ".py",
   "mimetype": "text/x-python",
   "name": "python",
   "nbconvert_exporter": "python",
   "pygments_lexer": "ipython3",
   "version": "3.12.11"
  }
 },
 "nbformat": 4,
 "nbformat_minor": 5
}
